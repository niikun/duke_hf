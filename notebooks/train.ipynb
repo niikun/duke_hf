{
 "cells": [
  {
   "cell_type": "markdown",
   "metadata": {},
   "source": [
    "[![Open In Colab](https://colab.research.google.com/assets/colab-badge.svg)](https://colab.research.google.com/github/niikun/duke_hf/blob/main/notebooks/train.ipynb)"
   ]
  },
  {
   "cell_type": "code",
   "execution_count": null,
   "metadata": {},
   "outputs": [],
   "source": [
    "import sys, os, subprocess, textwrap\n",
    "\n",
    "IN_COLAB = \"google.colab\" in sys.modules\n",
    "if IN_COLAB:\n",
    "    # Colab では都度インストール\n",
    "    !pip -q install -r https://raw.githubusercontent.com/niikun/duke_hf/main/requirements-colab.txt\n",
    "    # リポジトリをクローン（公開RepoならPAT不要）\n",
    "    !git clone -q https://github.com/niiku/duke_hf.git /content/repo\n",
    "    import sys; sys.path.append(\"/content/repo\")\n",
    "    os.chdir(\"/content/repo\")\n",
    "else:\n",
    "    # Codespaces ではローカル相対パスでOK\n",
    "    sys.path.append(os.getcwd())"
   ]
  }
 ],
 "metadata": {
  "kernelspec": {
   "display_name": "Python 3",
   "language": "python",
   "name": "python3"
  },
  "language_info": {
   "codemirror_mode": {
    "name": "ipython",
    "version": 3
   },
   "file_extension": ".py",
   "mimetype": "text/x-python",
   "name": "python",
   "nbconvert_exporter": "python",
   "pygments_lexer": "ipython3",
   "version": "3.8.5"
  }
 },
 "nbformat": 4,
 "nbformat_minor": 4
}